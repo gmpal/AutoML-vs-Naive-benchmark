{
 "cells": [
  {
   "cell_type": "markdown",
   "metadata": {},
   "source": [
    "## Imports"
   ]
  },
  {
   "cell_type": "code",
   "execution_count": null,
   "metadata": {},
   "outputs": [],
   "source": [
    "from datetime import datetime\n",
    "import pandas as pd\n",
    "import numpy as np"
   ]
  },
  {
   "cell_type": "code",
   "execution_count": null,
   "metadata": {},
   "outputs": [],
   "source": [
    "from statsmodels.tsa.api import ExponentialSmoothing, SimpleExpSmoothing"
   ]
  },
  {
   "cell_type": "markdown",
   "metadata": {},
   "source": [
    "## Functions"
   ]
  },
  {
   "cell_type": "code",
   "execution_count": null,
   "metadata": {},
   "outputs": [],
   "source": [
    "def fit_predict(univariate_train, max_horizon):\n",
    "    fit0 = SimpleExpSmoothing(univariate_train).fit()\n",
    "    fit1 = ExponentialSmoothing(univariate_train, seasonal_periods=24, trend='add', seasonal='add', use_boxcox=True, initialization_method=\"estimated\").fit()\n",
    "    fit2 = ExponentialSmoothing(univariate_train, seasonal_periods=24, trend='add', seasonal='mul', use_boxcox=True, initialization_method=\"estimated\").fit()\n",
    "    fit3 = ExponentialSmoothing(univariate_train, seasonal_periods=24, trend='add', seasonal='add', damped_trend=True, use_boxcox=True, initialization_method=\"estimated\").fit()\n",
    "    fit4 = ExponentialSmoothing(univariate_train, seasonal_periods=24, trend='add', seasonal='mul', damped_trend=True, use_boxcox=True, initialization_method=\"estimated\").fit()\n",
    "    \n",
    "    fcast0 = fit0.forecast(max_horizon).rename(\"SimpleExpSmoothing\")\n",
    "    fcast1 = fit1.forecast(max_horizon).rename(\"Holt-Winters (add-add-seasonal)\")\n",
    "    fcast2 = fit2.forecast(max_horizon).rename(\"Holt-Winters (add-mul-seasonal)\")\n",
    "    fcast3 = fit3.forecast(max_horizon).rename(\"Holt-Winters (add-add-seasonal) - damp\")\n",
    "    fcast4 = fit4.forecast(max_horizon).rename(\"Holt-Winters (add-mul-seasonal) - damp\")\n",
    "   \n",
    "    return pd.concat([fcast0,fcast1,fcast2,fcast3,fcast4],axis=1)"
   ]
  },
  {
   "cell_type": "code",
   "execution_count": null,
   "metadata": {},
   "outputs": [],
   "source": [
    "def execute(series_name, time_series, test_parts, num_test_days, max_horizon):\n",
    "    window_size = len(time_series) // test_parts\n",
    "    all_points_h1 = pd.DataFrame(columns=np.arange(5))\n",
    "    all_points_h2 = pd.DataFrame(columns=np.arange(5))\n",
    "    for i in range(test_parts): \n",
    "        considered_slice = time_series[: window_size * (i+1)]\n",
    "        for j in range(num_test_days+1): #0.......17 incluso\n",
    "            train = considered_slice[: - 1 - num_test_days + j] #-18.....-1 (escluso)\n",
    "           \n",
    "            ret = fit_predict(train, max_horizon)\n",
    "            h1 = ret.iloc[0,:]\n",
    "            h2 = ret.iloc[1,:]\n",
    "            if j > 0:\n",
    "                all_points_h1.loc[len(all_points_h1)] = h1.values #-17.....-1 (incluso)\n",
    "            if j < num_test_days:\n",
    "                all_points_h2.loc[len(all_points_h2)] = h2.values #-18.....-2 (incluso)\n",
    "    build_test = []\n",
    "    for i in range(test_parts): \n",
    "        considered_slice = time_series[: window_size * (i+1)]\n",
    "        test = considered_slice[- num_test_days:].values\n",
    "        \n",
    "        build_test.append(test)\n",
    "    truth =  np.append(np.array([]),build_test)\n",
    "    all_points_h1['Truth'] = truth\n",
    "    all_points_h2['Truth'] = truth\n",
    "    \n",
    "    return all_points_h1, all_points_h2"
   ]
  },
  {
   "cell_type": "markdown",
   "metadata": {},
   "source": [
    "## Load unpreprocessed data"
   ]
  },
  {
   "cell_type": "code",
   "execution_count": null,
   "metadata": {},
   "outputs": [],
   "source": [
    "exchange = pd.read_csv(\"./../multivariate-time-series-data/exchange_rate/exchange_rate.txt\",header=None)\n",
    "electricity = pd.read_csv(\"./../multivariate-time-series-data/electricity/electricity.txt\",header=None)"
   ]
  },
  {
   "cell_type": "markdown",
   "metadata": {},
   "source": [
    "## Execution"
   ]
  },
  {
   "cell_type": "code",
   "execution_count": null,
   "metadata": {},
   "outputs": [],
   "source": [
    "max_horizon = 2\n",
    "test_parts = 3\n",
    "test_size = 17 #total of test_parts * test_size data points in test_parts different moments of time \n",
    "\n",
    "datasets_names = [\"Exchange\"]\n",
    "datasets = [exchange[0].clip(lower=0.000001)]\n",
    "for index, dataset in enumerate(datasets):\n",
    "    dataset_name = datasets_names[index]\n",
    "    c3, c4 = execute(dataset_name, dataset, test_parts, test_size, max_horizon)\n",
    "\n",
    "datasets_names = [\"Electricity\"]\n",
    "datasets = [electricity[0].clip(lower=0.000001)]\n",
    "for index, dataset in enumerate(datasets):\n",
    "    dataset_name = datasets_names[index]\n",
    "    c1, c2 = execute(dataset_name, dataset, test_parts, test_size, max_horizon)"
   ]
  },
  {
   "cell_type": "markdown",
   "metadata": {},
   "source": [
    "## Saving results"
   ]
  },
  {
   "cell_type": "code",
   "execution_count": null,
   "metadata": {},
   "outputs": [],
   "source": [
    "names = [\"SimpleExpSmoothing\",\"Holt-Winters (add-add-seasonal)\",\"Holt-Winters (add-mul-seasonal)\",\"Holt-Winters (add-add-seasonal) - damp\",\"Holt-Winters (add-mul-seasonal) - damp\",\"Truth\"]\n",
    "c1.columns = names\n",
    "c2.columns = names\n",
    "c3.columns = names\n",
    "c4.columns = names\n",
    "\n",
    "c1.to_csv(\"Electricity_h1_exponentialsmoothing.csv\", index=False)\n",
    "c2.to_csv(\"Electricity_h2_exponentialsmoothing.csv\", index=False)\n",
    "c3.to_csv(\"Exchange_h1_exponentialsmoothing.csv\", index=False)\n",
    "c4.to_csv(\"Exchange_h2_exponentialsmoothing.csv\", index=False)"
   ]
  }
 ],
 "metadata": {
  "kernelspec": {
   "display_name": "Python 3",
   "language": "python",
   "name": "python3"
  },
  "language_info": {
   "codemirror_mode": {
    "name": "ipython",
    "version": 3
   },
   "file_extension": ".py",
   "mimetype": "text/x-python",
   "name": "python",
   "nbconvert_exporter": "python",
   "pygments_lexer": "ipython3",
   "version": "3.8.3"
  }
 },
 "nbformat": 4,
 "nbformat_minor": 4
}
