{
 "cells": [
  {
   "cell_type": "code",
   "execution_count": null,
   "metadata": {},
   "outputs": [],
   "source": [
    "import os\n",
    "import pandas as pd \n",
    "import numpy as np\n",
    "from scipy.stats import rankdata\n",
    "from scipy.stats import f\n",
    "import matplotlib.pyplot as plt\n",
    "import seaborn as sns\n",
    "import time\n",
    "import math"
   ]
  },
  {
   "cell_type": "markdown",
   "metadata": {},
   "source": [
    "### Orange necessary code has been copy-pasted from github source (library issues)"
   ]
  },
  {
   "cell_type": "code",
   "execution_count": null,
   "metadata": {},
   "outputs": [],
   "source": [
    "import orange ##file orange.py"
   ]
  },
  {
   "cell_type": "markdown",
   "metadata": {},
   "source": [
    "## Loading data"
   ]
  },
  {
   "cell_type": "code",
   "execution_count": null,
   "metadata": {},
   "outputs": [],
   "source": [
    "all_models_elec_h1 = pd.read_csv(\"all_models_elec_h1.csv\")\n",
    "all_models_elec_h2 = pd.read_csv(\"all_models_elec_h2.csv\")\n",
    "all_models_exch_h1 = pd.read_csv(\"all_models_exch_h1.csv\")\n",
    "all_models_exch_h2 = pd.read_csv(\"all_models_exch_h2.csv\")"
   ]
  },
  {
   "cell_type": "markdown",
   "metadata": {},
   "source": [
    "## Functions"
   ]
  },
  {
   "cell_type": "code",
   "execution_count": null,
   "metadata": {},
   "outputs": [],
   "source": [
    "def select_topNworse_for_each_model(dataframe): \n",
    "    \n",
    "    num_to_pick = 1\n",
    "    \n",
    "    nrows = dataframe.shape[0]\n",
    "    ncols = dataframe.shape[1]\n",
    "    ranking = pd.DataFrame(dataframe)\n",
    "    for i in range(nrows):\n",
    "        ranking.iloc[i,:] = rankdata(dataframe.iloc[i,:])\n",
    "    avranks = [0]*ncols\n",
    "    for i in range(ncols):\n",
    "        avranks[i] = ranking.iloc[:,i].mean() \n",
    "    index_sorted = pd.DataFrame(avranks).sort_values(0).index\n",
    "    top_columns = dataframe.columns[index_sorted]\n",
    "    \n",
    "\n",
    "    frameworks = [\"autogluon\",\"autosklearn\",\"h2o\",\"tpot\"]\n",
    "    cs = top_columns\n",
    "    res_0 = [i for i in cs if frameworks[0] in i]\n",
    "    res_1 = [i for i in cs if frameworks[1] in i]\n",
    "    res_2 = [i for i in cs if frameworks[2] in i]\n",
    "    res_3 = [i for i in cs if frameworks[3] in i]\n",
    "    rest =  [i for i in cs if (frameworks[0] not in i) and (frameworks[1] not in i) and (frameworks[2] not in i) and (frameworks[3] not in i)]\n",
    "    \n",
    "    \n",
    "    a = res_0[:1] \n",
    "    a.extend(res_0[-1:])\n",
    "    b = res_1[:1]\n",
    "    b.extend(res_1[-1:])\n",
    "    c = res_2[:1]\n",
    "    c.extend(res_2[-1:])\n",
    "    d = res_3[:1]\n",
    "    d.extend(res_3[-1:])\n",
    "    \n",
    "    rest.extend(a)\n",
    "    rest.extend(b)\n",
    "    rest.extend(c)\n",
    "    rest.extend(d)\n",
    "    \n",
    "    return dataframe[rest]"
   ]
  },
  {
   "cell_type": "code",
   "execution_count": null,
   "metadata": {},
   "outputs": [],
   "source": [
    "def select_top_20(dataframe):\n",
    "    nrows = dataframe.shape[0]\n",
    "    ncols = dataframe.shape[1]\n",
    "    ranking = pd.DataFrame(dataframe)\n",
    "    for i in range(nrows):\n",
    "        ranking.iloc[i,:] = rankdata(dataframe.iloc[i,:])\n",
    "    avranks = [0]*ncols\n",
    "    for i in range(ncols):\n",
    "        avranks[i] = ranking.iloc[:,i].mean() \n",
    "    index_sorted = pd.DataFrame(avranks).sort_values(0).index\n",
    "    top_columns = dataframe.columns[index_sorted]\n",
    "    top20 = top_columns[:20]\n",
    "\n",
    "    return dataframe[top20]"
   ]
  },
  {
   "cell_type": "markdown",
   "metadata": {},
   "source": [
    "## Function to perform test"
   ]
  },
  {
   "cell_type": "code",
   "execution_count": null,
   "metadata": {},
   "outputs": [],
   "source": [
    "def perform_friedman_nemenyi_test(filename, dataframe, alpha = 0.05):\n",
    "    \n",
    "    nrows = dataframe.shape[0]\n",
    "    ncols = dataframe.shape[1]\n",
    "    \n",
    "    #perform ranking of the results\n",
    "    ranking = pd.DataFrame(dataframe)\n",
    "    for i in range(nrows):\n",
    "        ranking.iloc[i,:] = rankdata(dataframe.iloc[i,:])\n",
    "    \n",
    "    #compute average of rankings\n",
    "    avranks = [0]*ncols\n",
    "    for i in range(ncols):\n",
    "        avranks[i] = ranking.iloc[:,i].mean() \n",
    "    \n",
    "    #compute Friedman and Iman tests, with respective degrees of freedom\n",
    "    (f_stat, dof), (im, fdistdof) = compute_friedman(avranks, nrows)\n",
    "\n",
    "    df1 = fdistdof[0]\n",
    "    df2 = fdistdof[1]\n",
    "\n",
    "    critical_value = f.ppf(q = 1 - alpha, dfn = df1, dfd = df2)\n",
    "\n",
    "    if (im > critical_value):\n",
    "        print(\"H0 Rejected, proceeding\")\n",
    "        \n",
    "        cd = compute_CD(avranks, nrows, str(alpha))\n",
    "        path = filename+\"_CD.png\"\n",
    "        graph_ranks(avranks, dataframe.columns, cd=cd, width=6, textspace=1, filename=path, bbox_inches=\"tight\")\n",
    "        \n",
    "    else:\n",
    "        print(\"Cannot reject H0, stop.\")"
   ]
  },
  {
   "cell_type": "markdown",
   "metadata": {},
   "source": [
    "## Execution"
   ]
  },
  {
   "cell_type": "markdown",
   "metadata": {},
   "source": [
    "## Electricity - h = 1 "
   ]
  },
  {
   "cell_type": "code",
   "execution_count": null,
   "metadata": {
    "scrolled": true
   },
   "outputs": [],
   "source": [
    "perform_friedman_nemenyi_test(\"Elec - H1\",select_topNworse_for_each_model(all_models_elec_h1))"
   ]
  },
  {
   "cell_type": "markdown",
   "metadata": {},
   "source": [
    "## Electricity - h = 2"
   ]
  },
  {
   "cell_type": "code",
   "execution_count": null,
   "metadata": {
    "scrolled": false
   },
   "outputs": [],
   "source": [
    "perform_friedman_nemenyi_test(\"Elec - H2\",select_topNworse_for_each_model(all_models_elec_h2))"
   ]
  },
  {
   "cell_type": "markdown",
   "metadata": {},
   "source": [
    "## Exchange - h = 1 "
   ]
  },
  {
   "cell_type": "code",
   "execution_count": null,
   "metadata": {
    "scrolled": false
   },
   "outputs": [],
   "source": [
    "perform_friedman_nemenyi_test(\"Exch - H1\",select_topNworse_for_each_model(all_models_exch_h1))"
   ]
  },
  {
   "cell_type": "markdown",
   "metadata": {},
   "source": [
    "## Exchange - h = 2"
   ]
  },
  {
   "cell_type": "code",
   "execution_count": null,
   "metadata": {
    "scrolled": false
   },
   "outputs": [],
   "source": [
    "perform_friedman_nemenyi_test(\"Exch - H2\",select_topNworse_for_each_model(all_models_exch_h2))"
   ]
  },
  {
   "cell_type": "code",
   "execution_count": null,
   "metadata": {},
   "outputs": [],
   "source": [
    "elec_all = pd.concat([all_models_elec_h1, all_models_elec_h2],axis=0)\n",
    "elec_all = elec_all.groupby(level=0).mean()\n",
    "exch_all = pd.concat([all_models_exch_h1, all_models_exch_h2],axis=0)\n",
    "exch_all = exch_all.groupby(level=0).mean()"
   ]
  },
  {
   "cell_type": "markdown",
   "metadata": {},
   "source": [
    "## Electricity - Both horizons"
   ]
  },
  {
   "cell_type": "code",
   "execution_count": null,
   "metadata": {},
   "outputs": [],
   "source": [
    "perform_friedman_nemenyi_test(\"Electricity\",select_topNworse_for_each_model(elec_all))"
   ]
  },
  {
   "cell_type": "markdown",
   "metadata": {},
   "source": [
    "## Exchange - Both horizons"
   ]
  },
  {
   "cell_type": "code",
   "execution_count": null,
   "metadata": {
    "scrolled": false
   },
   "outputs": [],
   "source": [
    "perform_friedman_nemenyi_test(\"Exchange\",select_topNworse_for_each_model(exch_all))"
   ]
  },
  {
   "cell_type": "code",
   "execution_count": null,
   "metadata": {},
   "outputs": [],
   "source": [
    "both_all = pd.concat([elec_all, exch_all],axis=0)\n",
    "both_all = both_all.groupby(level=0).mean()"
   ]
  },
  {
   "cell_type": "markdown",
   "metadata": {},
   "source": [
    "## All data together"
   ]
  },
  {
   "cell_type": "code",
   "execution_count": null,
   "metadata": {},
   "outputs": [],
   "source": [
    "perform_friedman_nemenyi_test(\"Both\",select_topNworse_for_each_model(both_all))"
   ]
  },
  {
   "cell_type": "code",
   "execution_count": null,
   "metadata": {
    "scrolled": true
   },
   "outputs": [],
   "source": [
    "perform_friedman_nemenyi_test(\"Both\",select_top_20(both_all))"
   ]
  }
 ],
 "metadata": {
  "kernelspec": {
   "display_name": "Python 3",
   "language": "python",
   "name": "python3"
  },
  "language_info": {
   "codemirror_mode": {
    "name": "ipython",
    "version": 3
   },
   "file_extension": ".py",
   "mimetype": "text/x-python",
   "name": "python",
   "nbconvert_exporter": "python",
   "pygments_lexer": "ipython3",
   "version": "3.8.3"
  }
 },
 "nbformat": 4,
 "nbformat_minor": 4
}
